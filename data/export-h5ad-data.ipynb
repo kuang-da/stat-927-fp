{
 "cells": [
  {
   "cell_type": "code",
   "execution_count": 14,
   "id": "d46631e6-f4fd-4cfa-933d-100e7b3a24bb",
   "metadata": {},
   "outputs": [],
   "source": [
    "import anndata\n",
    "import numpy as np\n",
    "from scipy import io"
   ]
  },
  {
   "cell_type": "code",
   "execution_count": 2,
   "id": "3854ed18-aca2-4e60-801d-ea12d9d317fe",
   "metadata": {},
   "outputs": [
    {
     "name": "stderr",
     "output_type": "stream",
     "text": [
      "/home/derek/anaconda3/envs/scanpy/lib/python3.9/site-packages/anndata/compat/_overloaded_dict.py:106: ImplicitModificationWarning: Trying to modify attribute `._uns` of view, initializing view as actual.\n",
      "  self.data[key] = value\n"
     ]
    }
   ],
   "source": [
    "svens = anndata.read('svensson_chromium_control.h5ad')\n",
    "sven1 = svens[svens.obs.query('sample == \"20311\"').index]\n",
    "sven2 = svens[svens.obs.query('sample == \"20312\"').index]\n",
    "sven1.uns['name'] = 'Svensson et al 2017 (1)'\n",
    "sven2.uns['name'] = 'Svensson et al 2017 (2)'"
   ]
  },
  {
   "cell_type": "code",
   "execution_count": 16,
   "id": "9516d32a-5814-417d-91fc-1e1191be90c0",
   "metadata": {},
   "outputs": [],
   "source": [
    "io.mmwrite(\"svensson1\", sven1.X)"
   ]
  }
 ],
 "metadata": {
  "kernelspec": {
   "display_name": "Python 3 (ipykernel)",
   "language": "python",
   "name": "python3"
  },
  "language_info": {
   "codemirror_mode": {
    "name": "ipython",
    "version": 3
   },
   "file_extension": ".py",
   "mimetype": "text/x-python",
   "name": "python",
   "nbconvert_exporter": "python",
   "pygments_lexer": "ipython3",
   "version": "3.9.12"
  }
 },
 "nbformat": 4,
 "nbformat_minor": 5
}
